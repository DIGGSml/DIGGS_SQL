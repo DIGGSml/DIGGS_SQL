{
 "cells": [
  {
   "cell_type": "code",
   "execution_count": 16,
   "id": "c80bc1aa",
   "metadata": {},
   "outputs": [],
   "source": [
    "import sqlite3\n",
    "import xml.etree.ElementTree as ET\n",
    "\n",
    "# --- Database connection ---\n",
    "conn = sqlite3.connect(\"GeoDataBase\")\n",
    "cur = conn.cursor()"
   ]
  },
  {
   "cell_type": "code",
   "execution_count": 17,
   "id": "c75c66f8",
   "metadata": {},
   "outputs": [],
   "source": [
    "# --- Load DIGGS XML file ---\n",
    "tree = ET.parse('example DIGGS file.xml')  # replace with actual file path\n",
    "root = tree.getroot()\n",
    "\n",
    "# --- Namespace map for DIGGS 2.6 ---\n",
    "ns = {\n",
    "    'diggs': 'http://diggsml.org/schemas/2.6',\n",
    "    'gml': 'http://www.opengis.net/gml/3.2',\n",
    "    'xlink': 'http://www.w3.org/1999/xlink'\n",
    "}"
   ]
  },
  {
   "cell_type": "code",
   "execution_count": 18,
   "id": "a337ec47",
   "metadata": {},
   "outputs": [
    {
     "name": "stdout",
     "output_type": "stream",
     "text": [
      "✅ Client inserted: Ohio DOT (ID: businessAssociate_40297645454187830622578296462_Num_0)\n",
      "✅ Clients loaded: {'businessAssociate_40297645454187830622578296462_Num_0': 'Ohio DOT'}\n"
     ]
    }
   ],
   "source": [
    "# --- Create tables ---\n",
    "cur.execute('''\n",
    "    CREATE TABLE IF NOT EXISTS _Client (\n",
    "        _Client_ID TEXT PRIMARY KEY,\n",
    "        clientName TEXT\n",
    "    )\n",
    "''')\n",
    "\n",
    "cur.execute('''\n",
    "    CREATE TABLE IF NOT EXISTS _Project (\n",
    "        _Project_ID TEXT PRIMARY KEY,\n",
    "        _Client_ID TEXT,\n",
    "        projectName TEXT,\n",
    "        projectNumber TEXT,\n",
    "        projectCountry TEXT,\n",
    "        projectState TEXT,\n",
    "        projectCounty TEXT,\n",
    "        coordinateDatum TEXT,\n",
    "        FOREIGN KEY (_Client_ID) REFERENCES _Client (_Client_ID)\n",
    "    )\n",
    "''')\n",
    "\n",
    "# --- Insert Client(s) ---\n",
    "clients = {}\n",
    "for role in root.findall('.//diggs:role/diggs:Role', ns):\n",
    "    role_type = role.find('diggs:rolePerformed', ns)\n",
    "    if role_type is not None and role_type.text.strip().lower() == \"client\":\n",
    "        ba = role.find('diggs:businessAssociate/diggs:BusinessAssociate', ns)\n",
    "        if ba is not None:\n",
    "            client_id = ba.attrib.get('{http://www.opengis.net/gml/3.2}id')\n",
    "            client_name = ba.find('gml:name', ns).text if ba.find('gml:name', ns) is not None else None\n",
    "            clients[client_id] = client_name\n",
    "            \n",
    "            # Execute insert and check if it worked\n",
    "            try:\n",
    "                cur.execute('INSERT OR IGNORE INTO _Client (_Client_ID, clientName) VALUES (?, ?)', (client_id, client_name))\n",
    "                print(f\"✅ Client inserted: {client_name} (ID: {client_id})\")\n",
    "            except sqlite3.Error as e:\n",
    "                print(f\"❌ Error inserting client: {e}\")\n",
    "\n",
    "# --- Optional: Log result ---\n",
    "if not clients:\n",
    "    print(\"⚠️ No client found in DIGGS file.\")\n",
    "else:\n",
    "    print(\"✅ Clients loaded:\", clients)\n"
   ]
  },
  {
   "cell_type": "code",
   "execution_count": 19,
   "id": "2a6b3f3e",
   "metadata": {},
   "outputs": [
    {
     "name": "stdout",
     "output_type": "stream",
     "text": [
      "✅ Project inserted: Ohio DOT SPT Completed 2017-01-04 (ID: Project0)\n",
      "\n",
      "--- Verification ---\n",
      "Total clients in database: 1\n",
      "Total projects in database: 1\n"
     ]
    }
   ],
   "source": [
    "# --- Insert Project ---\n",
    "project = root.find('.//diggs:project/diggs:Project', ns)\n",
    "if project is not None:\n",
    "    project_id = project.attrib.get('{http://www.opengis.net/gml/3.2}id')\n",
    "    project_name = project.find('gml:name', ns).text if project.find('gml:name', ns) is not None else None\n",
    "    project_desc = project.find('gml:description', ns).text if project.find('gml:description', ns) is not None else None\n",
    "\n",
    "    # Pick first client if available\n",
    "    client_id = next(iter(clients), None)\n",
    "\n",
    "    try:\n",
    "        cur.execute('''\n",
    "            INSERT OR IGNORE INTO _Project (_Project_ID, _Client_ID, projectName, projectNumber, projectCountry, projectState, projectCounty, coordinateDatum)\n",
    "            VALUES (?, ?, ?, ?, ?, ?, ?, ?)\n",
    "        ''', (project_id, client_id, project_name, None, None, None, None, None))\n",
    "        \n",
    "        print(f\"✅ Project inserted: {project_name} (ID: {project_id})\")\n",
    "    except sqlite3.Error as e:\n",
    "        print(f\"❌ Error inserting project: {e}\")\n",
    "else:\n",
    "    print(\"❌ No <Project> element found in the XML.\")\n",
    "\n",
    "# --- Verify insertions ---\n",
    "print(\"\\n--- Verification ---\")\n",
    "cur.execute(\"SELECT COUNT(*) FROM _Client\")\n",
    "client_count = cur.fetchone()[0]\n",
    "print(f\"Total clients in database: {client_count}\")\n",
    "\n",
    "cur.execute(\"SELECT COUNT(*) FROM _Project\") \n",
    "project_count = cur.fetchone()[0]\n",
    "print(f\"Total projects in database: {project_count}\")"
   ]
  },
  {
   "cell_type": "code",
   "execution_count": 20,
   "id": "9300368e",
   "metadata": {},
   "outputs": [],
   "source": [
    "# --- Commit changes ---\n",
    "conn.commit()\n",
    "conn.close()"
   ]
  }
 ],
 "metadata": {
  "kernelspec": {
   "display_name": "Python 3",
   "language": "python",
   "name": "python3"
  },
  "language_info": {
   "codemirror_mode": {
    "name": "ipython",
    "version": 3
   },
   "file_extension": ".py",
   "mimetype": "text/x-python",
   "name": "python",
   "nbconvert_exporter": "python",
   "pygments_lexer": "ipython3",
   "version": "3.11.9"
  }
 },
 "nbformat": 4,
 "nbformat_minor": 5
}
